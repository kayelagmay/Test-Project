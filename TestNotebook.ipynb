{
    "cells": [
        {
            "metadata": {},
            "cell_type": "markdown",
            "source": "# Notebook Test\n\nThis notebook will be used to test code"
        },
        {
            "metadata": {},
            "cell_type": "code",
            "source": "print (\"hello world\")",
            "execution_count": 1,
            "outputs": [
                {
                    "output_type": "stream",
                    "text": "hello world\n",
                    "name": "stdout"
                }
            ]
        },
        {
            "metadata": {},
            "cell_type": "code",
            "source": "a = 10\nb = 5\nc = 2 + 8\n\nif a == b:\n    print ('first condition is true')\nelif a == c:\n    print (\"second condition is true\")\nelse: \n    print ('nothing is true. existence is pain')",
            "execution_count": 9,
            "outputs": [
                {
                    "output_type": "stream",
                    "text": "second condition is true\n",
                    "name": "stdout"
                }
            ]
        },
        {
            "metadata": {},
            "cell_type": "code",
            "source": "a = 10\nb = 5\nc = 2 + 9\n\nif a == b:\n    print ('first condition is true')\nelif a == c:\n    print (\"second condition is true\")\nelse: \n    print ('nothing is true. existence is pain')",
            "execution_count": 10,
            "outputs": [
                {
                    "output_type": "stream",
                    "text": "nothing is true. existence is pain\n",
                    "name": "stdout"
                }
            ]
        },
        {
            "metadata": {},
            "cell_type": "code",
            "source": "print (\"quotation marks\")\nprint ('apostrophes')\nprint (\"insert 'apostrophes'\")\nprint ('insert \"quotation marks\"')\n",
            "execution_count": 11,
            "outputs": [
                {
                    "output_type": "stream",
                    "text": "quotation marks\napostrophes\ninsert 'apostrophes'\ninsert \"quotation marks\"\n",
                    "name": "stdout"
                }
            ]
        }
    ],
    "metadata": {
        "kernelspec": {
            "name": "python3",
            "display_name": "Python 3.7",
            "language": "python"
        },
        "language_info": {
            "name": "python",
            "version": "3.7.10",
            "mimetype": "text/x-python",
            "codemirror_mode": {
                "name": "ipython",
                "version": 3
            },
            "pygments_lexer": "ipython3",
            "nbconvert_exporter": "python",
            "file_extension": ".py"
        }
    },
    "nbformat": 4,
    "nbformat_minor": 1
}